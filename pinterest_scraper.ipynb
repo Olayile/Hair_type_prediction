{
 "cells": [
  {
   "cell_type": "markdown",
   "metadata": {},
   "source": [
    "# 4C HAIR"
   ]
  },
  {
   "cell_type": "code",
   "execution_count": 106,
   "metadata": {},
   "outputs": [],
   "source": [
    "from pinterest_scraper import scraper as s\n",
    "from selenium import webdriver\n",
    "chrome = webdriver.Chrome(executable_path='/Users/olayile/pinterest-image-scraper-1/pinterest_scraper/chromedriver')\n"
   ]
  },
  {
   "cell_type": "code",
   "execution_count": 107,
   "metadata": {},
   "outputs": [],
   "source": [
    "ph = s.Pinterest_Helper(, chrome)"
   ]
  },
  {
   "cell_type": "code",
   "execution_count": 47,
   "metadata": {},
   "outputs": [],
   "source": [
    "images = ph.runme(\"https://www.pinterest.co.uk/chiwize/4c-hair-inspiration/\")"
   ]
  },
  {
   "cell_type": "code",
   "execution_count": null,
   "metadata": {},
   "outputs": [],
   "source": [
    "s.download(images, \"/Users/olayile/pinterest-image-scraper-1/4c_hair_images\")"
   ]
  },
  {
   "cell_type": "code",
   "execution_count": 10,
   "metadata": {},
   "outputs": [],
   "source": [
    "imgs = []\n",
    "for i in images:\n",
    "    imgs.append(i.decode())\n",
    "\n",
    "\n"
   ]
  },
  {
   "cell_type": "code",
   "execution_count": 12,
   "metadata": {},
   "outputs": [],
   "source": [
    "s.download(imgs, \"/Users/olayile/pinterest-image-scraper-1/4c_hair_images\")\n"
   ]
  },
  {
   "cell_type": "markdown",
   "metadata": {},
   "source": [
    "# 4A HAIR\n"
   ]
  },
  {
   "cell_type": "markdown",
   "metadata": {},
   "source": [
    "'https://za.pinterest.com/nathairqueen/4a-queens/'\n",
    "\n",
    "'https://www.pinterest.co.uk/creativealia/4a-natural-hair/'\n",
    "\n",
    "'https://www.pinterest.co.uk/Shaneekettell/4a-natural-hair/'"
   ]
  },
  {
   "cell_type": "code",
   "execution_count": 27,
   "metadata": {},
   "outputs": [],
   "source": [
    "images = ph.runme('https://www.pinterest.co.uk/Shaneekettell/4a-natural-hair/')"
   ]
  },
  {
   "cell_type": "code",
   "execution_count": 28,
   "metadata": {},
   "outputs": [],
   "source": [
    "imgs = []\n",
    "for i in images:\n",
    "    imgs.append(i.decode())"
   ]
  },
  {
   "cell_type": "code",
   "execution_count": 29,
   "metadata": {},
   "outputs": [],
   "source": [
    "s.download(imgs, \"/Users/olayile/pinterest-image-scraper-1/4a_hair_images\")"
   ]
  },
  {
   "cell_type": "markdown",
   "metadata": {},
   "source": [
    "# 3C "
   ]
  },
  {
   "cell_type": "markdown",
   "metadata": {},
   "source": [
    "[x]  'https://www.pinterest.co.uk/starayshia/3c-natural-hair/'\n",
    "\n",
    "[x] 'https://www.pinterest.co.uk/tearey/3c-natural-hair-inspo/'\n",
    "\n",
    "[x] 'https://www.pinterest.co.uk/lmichelle31/4a3c-natural-hair-my-hair-texture/'\n",
    "\n",
    "[x] 'https://www.pinterest.co.uk/octaviaequilla/3c-natural-hair/'\n",
    "\n",
    "[x] 'https://www.pinterest.co.uk/gaiaofeden/curl-crush/'"
   ]
  },
  {
   "cell_type": "code",
   "execution_count": 55,
   "metadata": {},
   "outputs": [],
   "source": [
    "images = ph.runme('https://www.pinterest.co.uk/gaiaofeden/curl-crush/')"
   ]
  },
  {
   "cell_type": "code",
   "execution_count": 56,
   "metadata": {},
   "outputs": [],
   "source": [
    "imgs = []\n",
    "for i in images:\n",
    "    imgs.append(i.decode())"
   ]
  },
  {
   "cell_type": "code",
   "execution_count": 57,
   "metadata": {},
   "outputs": [],
   "source": [
    "s.download(imgs, \"/Users/olayile/pinterest-image-scraper-1/3c_hair_images\")"
   ]
  },
  {
   "cell_type": "markdown",
   "metadata": {},
   "source": [
    "# 3B HAIR\n",
    "\n",
    "[x] 'https://www.pinterest.co.uk/onychair/onyc-curly-addiction-3b/'\n",
    "\n",
    "[x] 'https://www.pinterest.co.uk/chrystaweeina/3bc-curly-hair/'"
   ]
  },
  {
   "cell_type": "code",
   "execution_count": 65,
   "metadata": {},
   "outputs": [],
   "source": [
    "images = ph.runme('https://www.pinterest.co.uk/chrystaweeina/3bc-curly-hair/')"
   ]
  },
  {
   "cell_type": "code",
   "execution_count": 66,
   "metadata": {},
   "outputs": [],
   "source": [
    "imgs = []\n",
    "for i in images:\n",
    "    imgs.append(i.decode())"
   ]
  },
  {
   "cell_type": "code",
   "execution_count": 67,
   "metadata": {},
   "outputs": [],
   "source": [
    "s.download(imgs, \"/Users/olayile/pinterest-image-scraper-1/3b_hair_images\")"
   ]
  },
  {
   "cell_type": "markdown",
   "metadata": {},
   "source": [
    "3A"
   ]
  },
  {
   "cell_type": "markdown",
   "metadata": {},
   "source": [
    "[x] 'https://za.pinterest.com/jodimassa/curly-girls/'\n",
    "\n",
    "[x] 'https://za.pinterest.com/beckylowe101/hair-curly-styles-cuts/'\n",
    "\n",
    "[x] 'https://za.pinterest.com/pengtines96867/3a-curly-hair/'"
   ]
  },
  {
   "cell_type": "code",
   "execution_count": 76,
   "metadata": {},
   "outputs": [],
   "source": [
    "images = ph.runme('https://za.pinterest.com/pengtines96867/3a-curly-hair/')"
   ]
  },
  {
   "cell_type": "code",
   "execution_count": 77,
   "metadata": {},
   "outputs": [],
   "source": [
    "imgs = []\n",
    "for i in images:\n",
    "    imgs.append(i.decode())"
   ]
  },
  {
   "cell_type": "code",
   "execution_count": 78,
   "metadata": {},
   "outputs": [],
   "source": [
    "s.download(imgs, \"/Users/olayile/pinterest-image-scraper-1/3a_hair_images\")"
   ]
  },
  {
   "cell_type": "markdown",
   "metadata": {},
   "source": [
    "# 2C"
   ]
  },
  {
   "cell_type": "markdown",
   "metadata": {},
   "source": [
    "'https://za.pinterest.com/victoriagabrielal_/curlywavy-hair-2b2c/'\n",
    "\n",
    "'https://za.pinterest.com/amy_yvcvs/hair/'"
   ]
  },
  {
   "cell_type": "code",
   "execution_count": 87,
   "metadata": {},
   "outputs": [],
   "source": [
    "images = ph.runme('https://za.pinterest.com/amy_yvcvs/hair/')"
   ]
  },
  {
   "cell_type": "code",
   "execution_count": 88,
   "metadata": {},
   "outputs": [],
   "source": [
    "imgs = []\n",
    "for i in images:\n",
    "    imgs.append(i.decode())"
   ]
  },
  {
   "cell_type": "code",
   "execution_count": 89,
   "metadata": {},
   "outputs": [],
   "source": [
    "s.download(imgs, \"/Users/olayile/pinterest-image-scraper-1/2c_hair_images\")"
   ]
  },
  {
   "cell_type": "markdown",
   "metadata": {},
   "source": [
    "# 2B"
   ]
  },
  {
   "cell_type": "markdown",
   "metadata": {},
   "source": [
    "'https://za.pinterest.com/chandra8908/natural-hair-goals/'"
   ]
  },
  {
   "cell_type": "code",
   "execution_count": 92,
   "metadata": {},
   "outputs": [],
   "source": [
    "images = ph.runme('https://za.pinterest.com/chandra8908/natural-hair-goals/')"
   ]
  },
  {
   "cell_type": "code",
   "execution_count": 93,
   "metadata": {},
   "outputs": [],
   "source": [
    "imgs = []\n",
    "for i in images:\n",
    "    imgs.append(i.decode())"
   ]
  },
  {
   "cell_type": "code",
   "execution_count": 94,
   "metadata": {},
   "outputs": [],
   "source": [
    "s.download(imgs, \"/Users/olayile/pinterest-image-scraper-1/2b_hair_images\")"
   ]
  },
  {
   "cell_type": "markdown",
   "metadata": {},
   "source": [
    "# 1C"
   ]
  },
  {
   "cell_type": "markdown",
   "metadata": {},
   "source": [
    "'https://za.pinterest.com/DailyDoseHairCare/daily-dose-1c-hair-type/'\n",
    "\n",
    "'https://za.pinterest.com/Fatima_202/1c-hair/'"
   ]
  },
  {
   "cell_type": "code",
   "execution_count": 102,
   "metadata": {},
   "outputs": [],
   "source": [
    "images = ph.runme('https://za.pinterest.com/Fatima_202/1c-hair/')"
   ]
  },
  {
   "cell_type": "code",
   "execution_count": 103,
   "metadata": {},
   "outputs": [],
   "source": [
    "imgs = []\n",
    "for i in images:\n",
    "    imgs.append(i.decode())"
   ]
  },
  {
   "cell_type": "code",
   "execution_count": 104,
   "metadata": {},
   "outputs": [],
   "source": [
    "s.download(imgs, \"/Users/olayile/pinterest-image-scraper-1/1c_hair_images\")"
   ]
  },
  {
   "cell_type": "markdown",
   "metadata": {},
   "source": [
    "#1 A"
   ]
  },
  {
   "cell_type": "markdown",
   "metadata": {},
   "source": [
    "'https://za.pinterest.com/DailyDoseHairCare/daily-dose-1a-hair-type/'"
   ]
  },
  {
   "cell_type": "code",
   "execution_count": 108,
   "metadata": {},
   "outputs": [],
   "source": [
    "images = ph.runme('https://za.pinterest.com/DailyDoseHairCare/daily-dose-1a-hair-type/')"
   ]
  },
  {
   "cell_type": "code",
   "execution_count": 109,
   "metadata": {},
   "outputs": [],
   "source": [
    "imgs = []\n",
    "for i in images:\n",
    "    imgs.append(i.decode())"
   ]
  },
  {
   "cell_type": "code",
   "execution_count": 110,
   "metadata": {},
   "outputs": [],
   "source": [
    "s.download(imgs, \"/Users/olayile/pinterest-image-scraper-1/1a_hair_images\")"
   ]
  },
  {
   "cell_type": "markdown",
   "metadata": {},
   "source": [
    "# FIX THE DIRECTORIES\n"
   ]
  },
  {
   "cell_type": "code",
   "execution_count": 115,
   "metadata": {},
   "outputs": [
    {
     "name": "stdout",
     "output_type": "stream",
     "text": [
      "*****************************\n",
      "Total images:  223\n",
      "Training:  178\n",
      "Testing:  45\n",
      "*****************************\n",
      "Copying Done!\n"
     ]
    }
   ],
   "source": [
    "import os\n",
    "import numpy as np\n",
    "import shutil\n",
    "import random\n",
    "root_dir = '/Users/olayile/pinterest-image-scraper-1/hair_images/'\n",
    "classes_dir = ['1a_hair_images', '1c_hair_images', '2b_hair_images', '2c_hair_images', '3a_hair_images', '3b_hair_images', '3c_hair_images', '4a_hair_images', '4c_hair_images']\n",
    "\n",
    "\n",
    "test_ratio = 0.20\n",
    "\n",
    "for cls in classes_dir:\n",
    "    os.makedirs(root_dir +'train/' + cls)\n",
    "    os.makedirs(root_dir +'test/' + cls)\n",
    "\n",
    "src = root_dir + cls\n",
    "\n",
    "allFileNames = os.listdir(src)\n",
    "np.random.shuffle(allFileNames)\n",
    "train_FileNames, test_FileNames = np.split(np.array(allFileNames),\n",
    "                                                          [int(len(allFileNames)* (1 - test_ratio))])\n",
    "\n",
    "\n",
    "train_FileNames = [src+'/'+ name for name in train_FileNames.tolist()]\n",
    "test_FileNames = [src+'/' + name for name in test_FileNames.tolist()]\n",
    "\n",
    "print(\"*****************************\")\n",
    "print('Total images: ', len(allFileNames))\n",
    "print('Training: ', len(train_FileNames))\n",
    "print('Testing: ', len(test_FileNames))\n",
    "print(\"*****************************\")\n",
    "\n",
    "\n",
    "lab = ['1a_hair_images', '1c_hair_images', '2b_hair_images', '2c_hair_images', '3a_hair_images', '3b_hair_images', '3c_hair_images', '4a_hair_images', '4c_hair_images']\n",
    "\n",
    "for name in train_FileNames:\n",
    "    for i in lab:\n",
    "        shutil.copy(name, root_dir +'train/' + i)\n",
    "\n",
    "for name in test_FileNames:\n",
    "    for i in lab:\n",
    "        shutil.copy(name, root_dir +'test/' + i)\n",
    "print(\"Copying Done!\")"
   ]
  }
 ],
 "metadata": {
  "interpreter": {
   "hash": "aee8b7b246df8f9039afb4144a1f6fd8d2ca17a180786b69acc140d282b71a49"
  },
  "kernelspec": {
   "display_name": "Python 3.9.6 64-bit",
   "name": "python3"
  },
  "language_info": {
   "codemirror_mode": {
    "name": "ipython",
    "version": 3
   },
   "file_extension": ".py",
   "mimetype": "text/x-python",
   "name": "python",
   "nbconvert_exporter": "python",
   "pygments_lexer": "ipython3",
   "version": "3.9.6"
  },
  "orig_nbformat": 4
 },
 "nbformat": 4,
 "nbformat_minor": 2
}
