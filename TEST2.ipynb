{
 "cells": [
  {
   "cell_type": "markdown",
   "source": [
    "# 4C HAIR"
   ],
   "metadata": {}
  },
  {
   "cell_type": "code",
   "execution_count": 106,
   "source": [
    "from pinterest_scraper import scraper as s\n",
    "from selenium import webdriver\n",
    "chrome = webdriver.Chrome(executable_path='/Users/olayile/pinterest-image-scraper-1/pinterest_scraper/chromedriver')\n"
   ],
   "outputs": [],
   "metadata": {}
  },
  {
   "cell_type": "code",
   "execution_count": 107,
   "source": [
    "ph = s.Pinterest_Helper('olayileejekwu@gmail.com' , 'Teachers1', chrome)"
   ],
   "outputs": [],
   "metadata": {}
  },
  {
   "cell_type": "code",
   "execution_count": 47,
   "source": [
    "images = ph.runme(\"https://www.pinterest.co.uk/chiwize/4c-hair-inspiration/\")"
   ],
   "outputs": [],
   "metadata": {}
  },
  {
   "cell_type": "code",
   "execution_count": 6,
   "source": [
    "images"
   ],
   "outputs": [
    {
     "output_type": "execute_result",
     "data": {
      "text/plain": [
       "[b'https://i.pinimg.com/736x/c0/06/92/c0069244bbbcda9ef140f5561a0621a7.jpg',\n",
       " b'https://i.pinimg.com/736x/04/4c/64/044c64b9f1946c90949e064e01a23f4a.jpg',\n",
       " b'https://i.pinimg.com/736x/ad/75/a7/ad75a79ef0d4f5428e306f2aeea9197d.jpg',\n",
       " b'https://i.pinimg.com/736x/db/8d/d7/db8dd74b7830d18b6aa0ebe9d9156674.jpg',\n",
       " b'https://i.pinimg.com/736x/1f/29/fa/1f29fa2af312c68181b17c7c85b78d87.jpg',\n",
       " b'https://i.pinimg.com/736x/38/40/4d/38404d124ab01cc0d4b5784c8bef4c72.jpg',\n",
       " b'https://i.pinimg.com/736x/3a/1f/52/3a1f522dd68c8bc097642f7f43038ac1.jpg',\n",
       " b'https://i.pinimg.com/736x/76/a0/bc/76a0bc754dbdca3af59f3f89e1bb6afd.jpg',\n",
       " b'https://i.pinimg.com/736x/97/5d/79/975d79d9afb52d76b33006e8dda152c3.jpg',\n",
       " b'https://i.pinimg.com/736x/3f/c9/d5/3fc9d5327d90bba22b0dd6b351eafab7.jpg',\n",
       " b'https://i.pinimg.com/736x/ca/b8/c7/cab8c7146bac5940d751c273c11ab2a6.jpg',\n",
       " b'https://i.pinimg.com/736x/fb/99/33/fb9933baf0db6ae424b784e7130336b4.jpg',\n",
       " b'https://i.pinimg.com/736x/d0/04/5d/d0045d996b9047af3d6698b36b951ac7.jpg',\n",
       " b'https://i.pinimg.com/736x/8d/32/3a/8d323ae4e074a5643855be9420dfc35c.jpg',\n",
       " b'https://i.pinimg.com/736x/d0/bc/39/d0bc395426d30fb9ae11bd2db098dded.jpg',\n",
       " b'https://i.pinimg.com/736x/80/da/cf/80dacf912a76ebf81f7694043a394a8c.jpg',\n",
       " b'https://i.pinimg.com/736x/29/8e/d2/298ed2b86def6355a000581ce55b46df.jpg',\n",
       " b'https://i.pinimg.com/736x/95/26/fb/9526fbc94929c9498f25bc1ed8e636a2.jpg',\n",
       " b'https://i.pinimg.com/736x/b0/8c/9d/b08c9dc6863cc4234991976d71694bc8.jpg',\n",
       " b'https://i.pinimg.com/736x/4a/3a/b0/4a3ab022b1e1b1a1ba2327dbafdbc4f7.jpg',\n",
       " b'https://i.pinimg.com/736x/db/67/e3/db67e3258f623110e9aa448870a962db.jpg',\n",
       " b'https://i.pinimg.com/736x/c1/f2/ff/c1f2ffee1629c25ae74e7667db4d0c8e.jpg',\n",
       " b'https://i.pinimg.com/736x/a6/a3/cc/a6a3cc337838889caebd202356f2f9a6.jpg',\n",
       " b'https://i.pinimg.com/736x/0d/9c/c9/0d9cc9aa25144c83b90669cf97d8cccd.jpg',\n",
       " b'https://i.pinimg.com/736x/16/10/88/161088bc8e2a1fe66805d478b6da50f5.jpg',\n",
       " b'https://i.pinimg.com/736x/fc/63/bb/fc63bbe0bf527f6a269aa4d71a29653c.jpg',\n",
       " b'https://i.pinimg.com/736x/20/f5/49/20f54980cdb9e844c54d3aae8f82abee.jpg',\n",
       " b'https://i.pinimg.com/736x/c3/be/40/c3be4089c54e22a244f9d0266e5d7ac7.jpg',\n",
       " b'https://i.pinimg.com/736x/13/94/e9/1394e985922f03e49ea5a02e07d7b68d.jpg',\n",
       " b'https://i.pinimg.com/736x/23/83/2b/23832b9039fa3fbcc6cc9dbaa9c75158.jpg',\n",
       " b'https://i.pinimg.com/736x/80/61/e0/8061e09bf987bb4ef33a260eef9f014a.jpg',\n",
       " b'https://i.pinimg.com/736x/83/77/57/8377577386a15641a03334d756f01fcc.jpg',\n",
       " b'https://i.pinimg.com/736x/2d/e9/a4/2de9a4dcfec4797983717cfd36061444.jpg',\n",
       " b'https://i.pinimg.com/736x/72/da/82/72da828439f5b736a48cc7ffee3a76b7.jpg',\n",
       " b'https://i.pinimg.com/736x/66/a2/98/66a298f240f1112b25e0a8bed115e7d4.jpg',\n",
       " b'https://i.pinimg.com/736x/0c/3d/46/0c3d467e66706b6ac2c678ca5d618d25.jpg',\n",
       " b'https://i.pinimg.com/736x/54/a3/77/54a377866c91c212101fd630da8d3f91.jpg',\n",
       " b'https://i.pinimg.com/736x/e5/24/8a/e5248ab8d2758160ca076e61dacd4580.jpg',\n",
       " b'https://i.pinimg.com/736x/e0/b2/f2/e0b2f2f1d6846f466ea31e0d74e5b951.jpg',\n",
       " b'https://i.pinimg.com/736x/0c/5e/ed/0c5eede34834e07be1207d076c04c6ef.jpg',\n",
       " b'https://i.pinimg.com/736x/d4/7a/80/d47a800beed794809d34f70d2dfcad47.jpg',\n",
       " b'https://i.pinimg.com/736x/eb/84/79/eb8479bc69c6222e179ae79de633c3ba.jpg',\n",
       " b'https://i.pinimg.com/736x/31/02/ec/3102ec6efd47020c91424c4c56e2890a.jpg',\n",
       " b'https://i.pinimg.com/736x/51/c3/81/51c3818f204aa36d90ca65d9b6e36f60.jpg',\n",
       " b'https://i.pinimg.com/736x/a2/1e/ae/a21eaee6a2f0989195fd4ea05127993f.jpg',\n",
       " b'https://i.pinimg.com/736x/90/5d/c2/905dc2085037517564db94a3b594f398.jpg',\n",
       " b'https://i.pinimg.com/736x/8a/26/14/8a26140b891f18395a254d6ae6baa37a.jpg',\n",
       " b'https://i.pinimg.com/736x/c9/69/ce/c969cea881d2731b3c310e207d831ab2.jpg',\n",
       " b'https://i.pinimg.com/736x/9b/98/c5/9b98c570a7df2054e8a60c44e4f030c7.jpg',\n",
       " b'https://i.pinimg.com/736x/7b/f5/69/7bf5690ca28d2d1c3a744d6e78db73a8.jpg',\n",
       " b'https://i.pinimg.com/736x/f3/13/09/f3130983bc36253f92982d478b365572.jpg',\n",
       " b'https://i.pinimg.com/736x/20/b9/82/20b9826bc9e158f7659bb2e5130280e9.jpg',\n",
       " b'https://i.pinimg.com/736x/b7/4a/6c/b74a6c6a533099697146c420a7baf91d.jpg',\n",
       " b'https://i.pinimg.com/736x/08/3e/3e/083e3ec9c8ec14b62a534c33edd13828.jpg',\n",
       " b'https://i.pinimg.com/736x/a6/3d/33/a63d33cdeed22a71198df9e93ba36d97.jpg',\n",
       " b'https://i.pinimg.com/736x/18/86/04/18860423f3361c0d73ef1d46749dd0b7.jpg',\n",
       " b'https://i.pinimg.com/736x/76/cd/dd/76cddd9dab9f7af90daef0864ca6e85e.jpg',\n",
       " b'https://i.pinimg.com/736x/1d/2a/b9/1d2ab9438b71d7379f11d2815dadc79c.jpg',\n",
       " b'https://i.pinimg.com/736x/75/7a/3e/757a3ee1b1d811c94784f766bec407a3.jpg',\n",
       " b'https://i.pinimg.com/736x/52/27/93/5227935c5f7f34f1c2c3e8df2b381acb.jpg',\n",
       " b'https://i.pinimg.com/736x/c9/c2/89/c9c2895ee7e7db1f66887f37a6898554.jpg',\n",
       " b'https://i.pinimg.com/736x/a4/f5/e2/a4f5e290cff4c6c42fb211251a2c15a9.jpg',\n",
       " b'https://i.pinimg.com/736x/3b/9f/e9/3b9fe916bd4a310811fea46045e73fbb.jpg',\n",
       " b'https://i.pinimg.com/736x/fe/ac/3b/feac3b57787dee28273f6ac51905a61d.jpg',\n",
       " b'https://i.pinimg.com/736x/fa/dc/d3/fadcd38b1f993717e17d711600cc2642.jpg',\n",
       " b'https://i.pinimg.com/736x/e8/80/31/e88031fe3c0307c102ceecde4418e547.jpg',\n",
       " b'https://i.pinimg.com/736x/28/70/93/287093719b1291a63538d9d5cb04dd29.jpg',\n",
       " b'https://i.pinimg.com/736x/98/77/4c/98774cebd85a3a30679c1463054210b5.jpg',\n",
       " b'https://i.pinimg.com/736x/a7/3c/ce/a73ccefe58708b7635730d4357af31ad.jpg',\n",
       " b'https://i.pinimg.com/736x/a3/12/4a/a3124acb25bbe1f7220a32491e17c209.jpg',\n",
       " b'https://i.pinimg.com/736x/e8/18/74/e8187474b9091e57d6e19cbb76cf0b79.jpg',\n",
       " b'https://i.pinimg.com/736x/7d/c0/31/7dc031b06e5fa584c50cbaf9762575e8.jpg',\n",
       " b'https://i.pinimg.com/736x/f9/f6/b3/f9f6b3620b61e597518f86bb3dd2c636.jpg',\n",
       " b'https://i.pinimg.com/736x/fe/f2/9a/fef29af21627b66df6048bcf5385bf9f.jpg',\n",
       " b'https://i.pinimg.com/736x/81/80/4d/81804d3fdd746592956ac412f3e68723.jpg',\n",
       " b'https://i.pinimg.com/736x/5a/e2/41/5ae2411e049864c34848b078cfcf9e76.jpg',\n",
       " b'https://i.pinimg.com/736x/c0/92/62/c092623d5d4dd02caea7206753cb0dbc.jpg',\n",
       " b'https://i.pinimg.com/736x/c8/5b/ac/c85bac74363c2038e85ab2d906b93ec2.jpg',\n",
       " b'https://i.pinimg.com/736x/3c/2e/6a/3c2e6afe53e2fde24fcf4677d9ea5b39.jpg',\n",
       " b'https://i.pinimg.com/736x/82/19/58/821958409675bbfb85caa8576ddcd570.jpg',\n",
       " b'https://i.pinimg.com/736x/fd/92/ce/fd92ce5084b88d4de441db69ae2e627c.jpg',\n",
       " b'https://i.pinimg.com/736x/a9/c4/04/a9c40406d0453a67559ee309e52deffb.jpg',\n",
       " b'https://i.pinimg.com/736x/92/93/75/929375a22976c223d574c2c661bd4d1e.jpg',\n",
       " b'https://i.pinimg.com/736x/ba/69/e7/ba69e7b4cd35cfaac43b3a8891d9a5b2.jpg',\n",
       " b'https://i.pinimg.com/736x/d9/c8/c1/d9c8c19c597168f3f2d2345868e0b530.jpg',\n",
       " b'https://i.pinimg.com/736x/36/0e/c1/360ec1c291621f9175a2dc2562277629.jpg',\n",
       " b'https://i.pinimg.com/736x/2a/85/f3/2a85f33bc2780e33bea9d22149166815.jpg',\n",
       " b'https://i.pinimg.com/736x/5b/cd/9f/5bcd9fe0921b9541a9d0c876293772d0.jpg',\n",
       " b'https://i.pinimg.com/736x/89/36/fb/8936fb4cb8cafeb926f9502f456a4de3.jpg',\n",
       " b'https://i.pinimg.com/736x/b1/8a/39/b18a398648d33dde4815f8b1ca9e9b26.jpg',\n",
       " b'https://i.pinimg.com/736x/ae/53/e6/ae53e64bcb0961fe904e624e3637dcce.jpg',\n",
       " b'https://i.pinimg.com/736x/a4/b8/a2/a4b8a20e53e57df0ce1a2de855600b92.jpg',\n",
       " b'https://i.pinimg.com/736x/e0/bd/ce/e0bdce02e77605eef548360e9eb3f2b5.jpg',\n",
       " b'https://i.pinimg.com/736x/33/f2/dc/33f2dc3f1ac4d1239d5903896fe501da.jpg',\n",
       " b'https://i.pinimg.com/736x/46/be/72/46be72eddf78a1ee982631e8479022ad.jpg',\n",
       " b'https://i.pinimg.com/736x/2e/4e/9a/2e4e9a326b26f131be76027616ebee09.jpg',\n",
       " b'https://i.pinimg.com/736x/00/56/98/0056987a8953d9e5328739e5d7f1deec.jpg',\n",
       " b'https://i.pinimg.com/736x/06/59/83/065983740015846bfc5502fe33dcdb13.jpg',\n",
       " b'https://i.pinimg.com/736x/da/e2/21/dae221a2cbf5af991a8f711bedc455f3.jpg',\n",
       " b'https://i.pinimg.com/736x/4b/b1/34/4bb134d4dfc410aaeb96e86960a533ab.jpg',\n",
       " b'https://i.pinimg.com/736x/0b/1d/88/0b1d88b2ffaba26fbaca1b53933c11ac.jpg',\n",
       " b'https://i.pinimg.com/736x/fb/a9/6e/fba96ed6006bf2724a6748524b37deea.jpg',\n",
       " b'https://i.pinimg.com/736x/56/7e/e6/567ee6c7ce628eda824c5917f1bdb2d4.jpg',\n",
       " b'https://i.pinimg.com/736x/c2/85/72/c28572dad22a7540d7ebc6f8e2f93117.jpg',\n",
       " b'https://i.pinimg.com/736x/37/eb/8a/37eb8a00f8eaec340301b3256070e6ad.jpg',\n",
       " b'https://i.pinimg.com/736x/56/fb/51/56fb515fc40ff522dd45df5d9a89d7cc.jpg',\n",
       " b'https://i.pinimg.com/736x/24/39/e9/2439e995f8eccb09494a9bdf400295bb.jpg',\n",
       " b'https://i.pinimg.com/736x/4e/27/12/4e2712b0cff167748f8c4bd172004fc7.jpg',\n",
       " b'https://i.pinimg.com/736x/5a/4b/cd/5a4bcdaf028de46561678b35f7e6471b.jpg',\n",
       " b'https://i.pinimg.com/736x/6b/6c/cc/6b6ccc9e2cdb2aa3a388988abd7594d0.jpg',\n",
       " b'https://i.pinimg.com/736x/fa/12/a6/fa12a6e32207b9fbde67b6b6a3b9b95e.jpg',\n",
       " b'https://i.pinimg.com/736x/ac/62/9a/ac629a094b2b4338d84e05f2b0c643e3.jpg',\n",
       " b'https://i.pinimg.com/736x/6d/c2/8e/6dc28e94abdc1839a74b5c10e4fa3822.jpg',\n",
       " b'https://i.pinimg.com/736x/83/04/7f/83047f2f3862647d9de10b9c593652a4.jpg',\n",
       " b'https://i.pinimg.com/736x/73/59/85/735985f452d1dcf9862f4390d2eab2a6.jpg',\n",
       " b'https://i.pinimg.com/736x/35/46/4f/35464f7c9faad616fd8e53aa411a58af.jpg',\n",
       " b'https://i.pinimg.com/736x/c1/b4/03/c1b403031dc557092305275ca97d131c.jpg',\n",
       " b'https://i.pinimg.com/736x/27/ff/6d/27ff6d96bedecf30cd4499b5ee2e0777.jpg',\n",
       " b'https://i.pinimg.com/736x/d9/5b/f1/d95bf1a106499155a0b4af1d838572ba.jpg',\n",
       " b'https://i.pinimg.com/736x/d1/b4/49/d1b449c281d4d7be4186129658545389.jpg',\n",
       " b'https://i.pinimg.com/736x/24/65/aa/2465aa5935e5ee085eee062e7c239c50.jpg',\n",
       " b'https://i.pinimg.com/736x/4d/44/bb/4d44bb03adef02c3e109eaea21440790.jpg',\n",
       " b'https://i.pinimg.com/736x/e6/b6/4b/e6b64b8de185baad453b08215e3b80b8.jpg',\n",
       " b'https://i.pinimg.com/736x/fc/be/89/fcbe8975cbb73cc44e119fcd4ce6ede4.jpg',\n",
       " b'https://i.pinimg.com/736x/57/67/38/57673812beb99c4d8366404cbca33c0a.jpg',\n",
       " b'https://i.pinimg.com/736x/fd/f0/2e/fdf02ee149dd5476a0f05ce633c92422.jpg',\n",
       " b'https://i.pinimg.com/736x/d3/4b/56/d34b560418b209be643dfa9a451f6031.jpg',\n",
       " b'https://i.pinimg.com/736x/2d/be/eb/2dbeeb84e5c810ca193c32c7065d5188.jpg',\n",
       " b'https://i.pinimg.com/736x/8c/9a/d4/8c9ad48f7f9829b671664c868be72c25.jpg',\n",
       " b'https://i.pinimg.com/736x/30/76/d4/3076d43b453f5a14fe8b0c5c9df69312.jpg',\n",
       " b'https://i.pinimg.com/736x/b7/46/7c/b7467cffe207c53905f9f3d93644231d.jpg',\n",
       " b'https://i.pinimg.com/736x/cd/5d/7a/cd5d7aaad2f48f8fc14c303fc9f3cd63.jpg',\n",
       " b'https://i.pinimg.com/736x/d9/ee/7e/d9ee7e9327db3c246623e18a4eff2ff9.jpg',\n",
       " b'https://i.pinimg.com/736x/df/50/ec/df50ec134ec8f109e2321a3298f17a61.jpg',\n",
       " b'https://i.pinimg.com/736x/1a/a9/4a/1aa94a5a58d4780895d5b37bce8a1098.jpg',\n",
       " b'https://i.pinimg.com/736x/24/18/b9/2418b96ec1af0ebf97a46775c09c95e8.jpg',\n",
       " b'https://i.pinimg.com/736x/0d/c1/89/0dc189b168fb013fd11a62936bfd9f8b.jpg',\n",
       " b'https://i.pinimg.com/736x/a2/db/d3/a2dbd3f26ac1363b8841103ee7895303.jpg',\n",
       " b'https://i.pinimg.com/736x/a7/0c/7f/a70c7f9732ad8bed83a20c49abf928ff.jpg',\n",
       " b'https://i.pinimg.com/736x/96/f6/0f/96f60ff27d615786fe585145e72fcbe8.jpg',\n",
       " b'https://i.pinimg.com/736x/e5/16/f0/e516f05996d03fc1528c11e177290d2a.jpg',\n",
       " b'https://i.pinimg.com/736x/98/b5/09/98b50910babd4484fa263846b6869dc4.jpg',\n",
       " b'https://i.pinimg.com/736x/fb/80/e5/fb80e50032a104f67c24265791784215.jpg',\n",
       " b'https://i.pinimg.com/736x/f6/10/23/f610235cf72179c6461b7cdc14de79e7.jpg',\n",
       " b'https://i.pinimg.com/736x/07/bf/f4/07bff4df68a335f9734d6ddb906d0520.jpg',\n",
       " b'https://i.pinimg.com/736x/67/2f/ee/672fee4ef6a7d6d1ec44cf6f4f465bc3.jpg',\n",
       " b'https://i.pinimg.com/736x/34/43/d8/3443d84b3d964c394ad450ae8887738d.jpg',\n",
       " b'https://i.pinimg.com/736x/05/34/b3/0534b39e5d92eecb49e39d55b2dbad49.jpg',\n",
       " b'https://i.pinimg.com/736x/b7/46/0e/b7460ee105c394e6e26b68babd7c2178.jpg',\n",
       " b'https://i.pinimg.com/736x/3c/07/f7/3c07f7296da13d8ed7c9d34512b716bc.jpg',\n",
       " b'https://i.pinimg.com/736x/ea/dc/dc/eadcdce204ee7e808a3ed8abebacd1c0.jpg',\n",
       " b'https://i.pinimg.com/736x/0a/84/01/0a84015db8ec152097e0ca6aa811a7d7.jpg',\n",
       " b'https://i.pinimg.com/736x/74/71/7b/74717b12b158a6a601fbc3e663142b70.jpg',\n",
       " b'https://i.pinimg.com/736x/d5/97/e0/d597e004f1077b3eeb16e598bca873fb.jpg',\n",
       " b'https://i.pinimg.com/736x/35/ca/9a/35ca9a304b2c6323343a6340c09f3652.jpg',\n",
       " b'https://i.pinimg.com/736x/af/74/36/af743612f2dae6122984cfdfe38e654b.jpg',\n",
       " b'https://i.pinimg.com/736x/79/cf/03/79cf036cec8a4557c0667faa92ff6830.jpg',\n",
       " b'https://i.pinimg.com/736x/fd/b9/b4/fdb9b43514df0164ea56088482abc368.jpg',\n",
       " b'https://i.pinimg.com/736x/b8/55/96/b85596c3b5f8c7855f155f335b9ecb97.jpg',\n",
       " b'https://i.pinimg.com/736x/02/ec/4b/02ec4b57539c1b74e1053811061c6343.jpg',\n",
       " b'https://i.pinimg.com/736x/85/c8/38/85c83817cdbb9194ae3942d4b92d4928.jpg',\n",
       " b'https://i.pinimg.com/736x/fe/68/e9/fe68e90ea1dedca4a9cf2525a7442e5c.jpg',\n",
       " b'https://i.pinimg.com/736x/41/de/ba/41debad039af2bb403f3bee7ee474d4f.jpg',\n",
       " b'https://i.pinimg.com/736x/65/e4/44/65e444e676fb53eb776007627e18238c.jpg',\n",
       " b'https://i.pinimg.com/736x/43/d5/d9/43d5d93a111827c5b25aca0ca5042d04.jpg',\n",
       " b'https://i.pinimg.com/736x/21/6c/54/216c5406b5e2200fb576bc578f23269b.jpg',\n",
       " b'https://i.pinimg.com/736x/2f/75/2b/2f752b448bbf67aee49d170bb126a5d8.jpg',\n",
       " b'https://i.pinimg.com/736x/b6/4e/8e/b64e8ef4e4adb861d0ff5046159cd76d.jpg',\n",
       " b'https://i.pinimg.com/736x/1c/fc/7f/1cfc7f05efed56202ce2643dd10baa45.jpg',\n",
       " b'https://i.pinimg.com/736x/1d/e8/5c/1de85ca1624641baaa19f956e32bd0fe.jpg',\n",
       " b'https://i.pinimg.com/736x/d2/e1/64/d2e1647ba8d9ec36178cfee2c4aae14e.jpg',\n",
       " b'https://i.pinimg.com/736x/b0/ef/1c/b0ef1ccb5e21fbc989855b3c6c9174a0.jpg',\n",
       " b'https://i.pinimg.com/736x/c4/e9/d7/c4e9d795cd3ba9d929e46479b6794902.jpg',\n",
       " b'https://i.pinimg.com/736x/e0/63/b6/e063b6a580a920956ce98777d34aa1b2.jpg',\n",
       " b'https://i.pinimg.com/736x/fb/6a/ef/fb6aef36d5bc7dbf5462fee1c40fdc46.jpg',\n",
       " b'https://i.pinimg.com/736x/c2/c5/81/c2c581a49339cced9b3d0e3d20268142.jpg',\n",
       " b'https://i.pinimg.com/736x/1b/b6/11/1bb6112ee0b14d6faab47461bf9f93d9.jpg',\n",
       " b'https://i.pinimg.com/736x/fd/f7/f7/fdf7f7357c05b48523daeed07cbae767.jpg',\n",
       " b'https://i.pinimg.com/736x/1c/6c/ed/1c6ced39e5b5d10ffffb7eecb4b007e1.jpg',\n",
       " b'https://i.pinimg.com/736x/4a/9a/dd/4a9adde397a33bc0005dab0038299d30.jpg',\n",
       " b'https://i.pinimg.com/736x/b8/7c/8f/b87c8f37eb6b475cbd43b9780b27c778.jpg',\n",
       " b'https://i.pinimg.com/736x/28/fe/f6/28fef64d18a10049cc5ea622efd15834.jpg',\n",
       " b'https://i.pinimg.com/736x/55/da/3d/55da3d86d81a2610257ec9fcceb2561a.jpg',\n",
       " b'https://i.pinimg.com/736x/72/db/11/72db112f829804a8977c2397ad69a39c.jpg',\n",
       " b'https://i.pinimg.com/736x/33/41/b9/3341b9a40cf5dfdcc8efc1f7a370b1a1.jpg',\n",
       " b'https://i.pinimg.com/736x/ea/3b/dc/ea3bdc0a86466fdea17827fb9719e83f.jpg',\n",
       " b'https://i.pinimg.com/736x/82/7b/62/827b6253efc879f0d4b94bb81a9bb5d3.jpg',\n",
       " b'https://i.pinimg.com/736x/f6/27/b5/f627b5830d9904d2bb073b25dc56fd1f.jpg',\n",
       " b'https://i.pinimg.com/736x/df/9d/a3/df9da36b440e7bfb74e31cd97ecc94ab.jpg',\n",
       " b'https://i.pinimg.com/736x/97/d3/5e/97d35eefa9e58a170ec71290cc6ac1c2.jpg',\n",
       " b'https://i.pinimg.com/736x/31/ae/57/31ae574b3827f71bccffe068dbe19b4b.jpg',\n",
       " b'https://i.pinimg.com/736x/21/58/05/215805599e9ebc87aaa67a88cddde2b1.jpg',\n",
       " b'https://i.pinimg.com/736x/8e/20/11/8e2011d8f8d591789064f3ed53f3e8f2.jpg',\n",
       " b'https://i.pinimg.com/736x/a6/83/63/a683637adb5bfa74ea6dc585f6ada4a0.jpg',\n",
       " b'https://i.pinimg.com/736x/59/25/1c/59251c4ef48cf5bcbcd64775931774b9.jpg',\n",
       " b'https://i.pinimg.com/736x/fb/a2/ab/fba2ab595f9762de235d6f2d3f1f10e7.jpg',\n",
       " b'https://i.pinimg.com/736x/d6/33/1e/d6331e447b69c44f002efc09f8ceede2.jpg',\n",
       " b'https://i.pinimg.com/736x/71/c5/a5/71c5a5f393f00584ef1e8a56d9622f5c.jpg',\n",
       " b'https://i.pinimg.com/736x/d3/81/10/d38110e4bd8b8e54ff1617c59e5a2a47.jpg',\n",
       " b'https://i.pinimg.com/736x/cc/bf/51/ccbf51561aed7d66bea7590b2839b1a8.jpg',\n",
       " b'https://i.pinimg.com/736x/c1/71/18/c17118cc208d5d94e33065cae5450c21.jpg',\n",
       " b'https://i.pinimg.com/736x/4b/2d/5e/4b2d5e03b54ed84ba45aeba219fca521.jpg',\n",
       " b'https://i.pinimg.com/736x/18/c5/0a/18c50a8918d939e912f637732544d2f9.jpg',\n",
       " b'https://i.pinimg.com/736x/c4/38/26/c438263b0ff47023693e7f3c908d406d.jpg',\n",
       " b'https://i.pinimg.com/736x/ed/5c/c5/ed5cc574a960e1aac54ac011bfb7e807.jpg',\n",
       " b'https://i.pinimg.com/736x/59/db/bc/59dbbc114376d78921f373bd759b2cd4.jpg',\n",
       " b'https://i.pinimg.com/736x/6d/18/13/6d181358c71d21986253fa95fa4f5423.jpg',\n",
       " b'https://i.pinimg.com/736x/a3/72/7c/a3727c394509fcff218613f4173fd8e2.jpg',\n",
       " b'https://i.pinimg.com/736x/eb/84/8d/eb848d3a951b7fbb25ffa89748046789.jpg',\n",
       " b'https://i.pinimg.com/736x/ac/46/53/ac465347eb4dd478225503c42adf8bd7.jpg',\n",
       " b'https://i.pinimg.com/736x/98/c4/13/98c4139ab54cd81192d64d1055ace9ce.jpg',\n",
       " b'https://i.pinimg.com/736x/6d/ee/9c/6dee9cfa6a08a8fae0199fa526ef7d00.jpg',\n",
       " b'https://i.pinimg.com/736x/1f/82/85/1f8285ac8f4a2009b5612655171f37f6.jpg',\n",
       " b'https://i.pinimg.com/736x/e3/cd/a1/e3cda1b576c1a09f7c9f217d0139895c.jpg',\n",
       " b'https://i.pinimg.com/736x/22/01/d8/2201d83450b47afdbddf154fdd54a860.jpg',\n",
       " b'https://i.pinimg.com/736x/22/7b/dc/227bdce75641ce9abbce9eef98a17f60.jpg',\n",
       " b'https://i.pinimg.com/736x/88/1f/8f/881f8fb2dc8d9ac620142c15facc2391.jpg',\n",
       " b'https://i.pinimg.com/736x/f2/64/01/f2640168d2062a65083134717f5c9a15.jpg',\n",
       " b'https://i.pinimg.com/736x/22/30/67/22306792c41dbc28deaa1f6753fb24d4.jpg',\n",
       " b'https://i.pinimg.com/736x/15/94/9b/15949ba0a6944657029087991a7ff69b.jpg',\n",
       " b'https://i.pinimg.com/736x/ce/4a/4a/ce4a4afad7ceea6f5ecdc7cbe8539ae2.jpg']"
      ]
     },
     "metadata": {},
     "execution_count": 6
    }
   ],
   "metadata": {}
  },
  {
   "cell_type": "code",
   "execution_count": 8,
   "source": [
    "s.download(images, \"/Users/olayile/pinterest-image-scraper-1/4c_hair_images\")"
   ],
   "outputs": [
    {
     "output_type": "error",
     "ename": "TypeError",
     "evalue": "can only concatenate str (not \"bytes\") to str",
     "traceback": [
      "\u001b[0;31m---------------------------------------------------------------------------\u001b[0m",
      "\u001b[0;31mTypeError\u001b[0m                                 Traceback (most recent call last)",
      "\u001b[0;32m/var/folders/gg/6z7ytz0d19j5jqwl4jxzqkw00000gn/T/ipykernel_12095/2345602032.py\u001b[0m in \u001b[0;36m<module>\u001b[0;34m\u001b[0m\n\u001b[0;32m----> 1\u001b[0;31m \u001b[0ms\u001b[0m\u001b[0;34m.\u001b[0m\u001b[0mdownload\u001b[0m\u001b[0;34m(\u001b[0m\u001b[0mimages\u001b[0m\u001b[0;34m,\u001b[0m \u001b[0;34m\"/Users/olayile/pinterest-image-scraper-1/4c_hair_images\"\u001b[0m\u001b[0;34m)\u001b[0m\u001b[0;34m\u001b[0m\u001b[0;34m\u001b[0m\u001b[0m\n\u001b[0m",
      "\u001b[0;32m~/pinterest-image-scraper-1/pinterest_scraper/scraper.py\u001b[0m in \u001b[0;36mdownload\u001b[0;34m(myinput, mydir)\u001b[0m\n\u001b[1;32m     24\u001b[0m     \u001b[0;32melif\u001b[0m \u001b[0misinstance\u001b[0m\u001b[0;34m(\u001b[0m\u001b[0mmyinput\u001b[0m\u001b[0;34m,\u001b[0m \u001b[0mlist\u001b[0m\u001b[0;34m)\u001b[0m\u001b[0;34m:\u001b[0m\u001b[0;34m\u001b[0m\u001b[0;34m\u001b[0m\u001b[0m\n\u001b[1;32m     25\u001b[0m         \u001b[0;32mfor\u001b[0m \u001b[0mi\u001b[0m \u001b[0;32min\u001b[0m \u001b[0mmyinput\u001b[0m\u001b[0;34m:\u001b[0m\u001b[0;34m\u001b[0m\u001b[0;34m\u001b[0m\u001b[0m\n\u001b[0;32m---> 26\u001b[0;31m             \u001b[0mdownload\u001b[0m\u001b[0;34m(\u001b[0m\u001b[0mi\u001b[0m\u001b[0;34m,\u001b[0m \u001b[0mmydir\u001b[0m\u001b[0;34m)\u001b[0m\u001b[0;34m\u001b[0m\u001b[0;34m\u001b[0m\u001b[0m\n\u001b[0m\u001b[1;32m     27\u001b[0m     \u001b[0;32melse\u001b[0m\u001b[0;34m:\u001b[0m\u001b[0;34m\u001b[0m\u001b[0;34m\u001b[0m\u001b[0m\n\u001b[1;32m     28\u001b[0m         \u001b[0;32mpass\u001b[0m\u001b[0;34m\u001b[0m\u001b[0;34m\u001b[0m\u001b[0m\n",
      "\u001b[0;32m~/pinterest-image-scraper-1/pinterest_scraper/scraper.py\u001b[0m in \u001b[0;36mdownload\u001b[0;34m(myinput, mydir)\u001b[0m\n\u001b[1;32m     17\u001b[0m         \u001b[0mres\u001b[0m\u001b[0;34m.\u001b[0m\u001b[0mraise_for_status\u001b[0m\u001b[0;34m(\u001b[0m\u001b[0;34m)\u001b[0m\u001b[0;34m\u001b[0m\u001b[0;34m\u001b[0m\u001b[0m\n\u001b[1;32m     18\u001b[0m         \u001b[0;31m#https://stackoverflow.com/questions/18727347/how-to-extract-a-filename-from-a-url-append-a-word-to-it\u001b[0m\u001b[0;34m\u001b[0m\u001b[0;34m\u001b[0m\u001b[0;34m\u001b[0m\u001b[0m\n\u001b[0;32m---> 19\u001b[0;31m         \u001b[0moutfile\u001b[0m \u001b[0;34m=\u001b[0m \u001b[0mmydir\u001b[0m \u001b[0;34m+\u001b[0m \u001b[0;34m\"/\"\u001b[0m \u001b[0;34m+\u001b[0m \u001b[0mos\u001b[0m\u001b[0;34m.\u001b[0m\u001b[0mpath\u001b[0m\u001b[0;34m.\u001b[0m\u001b[0mbasename\u001b[0m\u001b[0;34m(\u001b[0m\u001b[0murlparse\u001b[0m\u001b[0;34m(\u001b[0m\u001b[0mmyinput\u001b[0m\u001b[0;34m)\u001b[0m\u001b[0;34m.\u001b[0m\u001b[0mpath\u001b[0m\u001b[0;34m)\u001b[0m\u001b[0;34m\u001b[0m\u001b[0;34m\u001b[0m\u001b[0m\n\u001b[0m\u001b[1;32m     20\u001b[0m         \u001b[0mplayFile\u001b[0m \u001b[0;34m=\u001b[0m \u001b[0mopen\u001b[0m\u001b[0;34m(\u001b[0m\u001b[0moutfile\u001b[0m\u001b[0;34m,\u001b[0m \u001b[0;34m'wb'\u001b[0m\u001b[0;34m)\u001b[0m\u001b[0;34m\u001b[0m\u001b[0;34m\u001b[0m\u001b[0m\n\u001b[1;32m     21\u001b[0m         \u001b[0;32mfor\u001b[0m \u001b[0mchunk\u001b[0m \u001b[0;32min\u001b[0m \u001b[0mres\u001b[0m\u001b[0;34m.\u001b[0m\u001b[0miter_content\u001b[0m\u001b[0;34m(\u001b[0m\u001b[0;36m100000\u001b[0m\u001b[0;34m)\u001b[0m\u001b[0;34m:\u001b[0m\u001b[0;34m\u001b[0m\u001b[0;34m\u001b[0m\u001b[0m\n",
      "\u001b[0;31mTypeError\u001b[0m: can only concatenate str (not \"bytes\") to str"
     ]
    }
   ],
   "metadata": {}
  },
  {
   "cell_type": "code",
   "execution_count": 10,
   "source": [
    "imgs = []\n",
    "for i in images:\n",
    "    imgs.append(i.decode())\n",
    "\n",
    "\n"
   ],
   "outputs": [],
   "metadata": {}
  },
  {
   "cell_type": "code",
   "execution_count": 12,
   "source": [
    "s.download(imgs, \"/Users/olayile/pinterest-image-scraper-1/4c_hair_images\")\n"
   ],
   "outputs": [],
   "metadata": {}
  },
  {
   "cell_type": "markdown",
   "source": [
    "# 4A HAIR\n"
   ],
   "metadata": {}
  },
  {
   "cell_type": "markdown",
   "source": [
    "'https://za.pinterest.com/nathairqueen/4a-queens/'\n",
    "\n",
    "'https://www.pinterest.co.uk/creativealia/4a-natural-hair/'\n",
    "\n",
    "'https://www.pinterest.co.uk/Shaneekettell/4a-natural-hair/'"
   ],
   "metadata": {}
  },
  {
   "cell_type": "code",
   "execution_count": 27,
   "source": [
    "images = ph.runme('https://www.pinterest.co.uk/Shaneekettell/4a-natural-hair/')"
   ],
   "outputs": [],
   "metadata": {}
  },
  {
   "cell_type": "code",
   "execution_count": 28,
   "source": [
    "imgs = []\n",
    "for i in images:\n",
    "    imgs.append(i.decode())"
   ],
   "outputs": [],
   "metadata": {}
  },
  {
   "cell_type": "code",
   "execution_count": 29,
   "source": [
    "s.download(imgs, \"/Users/olayile/pinterest-image-scraper-1/4a_hair_images\")"
   ],
   "outputs": [],
   "metadata": {}
  },
  {
   "cell_type": "markdown",
   "source": [
    "# 3C "
   ],
   "metadata": {}
  },
  {
   "cell_type": "markdown",
   "source": [
    "[x]  'https://www.pinterest.co.uk/starayshia/3c-natural-hair/'\n",
    "\n",
    "[x] 'https://www.pinterest.co.uk/tearey/3c-natural-hair-inspo/'\n",
    "\n",
    "[x] 'https://www.pinterest.co.uk/lmichelle31/4a3c-natural-hair-my-hair-texture/'\n",
    "\n",
    "[x] 'https://www.pinterest.co.uk/octaviaequilla/3c-natural-hair/'\n",
    "\n",
    "[x] 'https://www.pinterest.co.uk/gaiaofeden/curl-crush/'"
   ],
   "metadata": {}
  },
  {
   "cell_type": "code",
   "execution_count": 55,
   "source": [
    "images = ph.runme('https://www.pinterest.co.uk/gaiaofeden/curl-crush/')"
   ],
   "outputs": [],
   "metadata": {}
  },
  {
   "cell_type": "code",
   "execution_count": 56,
   "source": [
    "imgs = []\n",
    "for i in images:\n",
    "    imgs.append(i.decode())"
   ],
   "outputs": [],
   "metadata": {}
  },
  {
   "cell_type": "code",
   "execution_count": 57,
   "source": [
    "s.download(imgs, \"/Users/olayile/pinterest-image-scraper-1/3c_hair_images\")"
   ],
   "outputs": [],
   "metadata": {}
  },
  {
   "cell_type": "markdown",
   "source": [
    "# 3B HAIR\n",
    "\n",
    "[x] 'https://www.pinterest.co.uk/onychair/onyc-curly-addiction-3b/'\n",
    "\n",
    "[x] 'https://www.pinterest.co.uk/chrystaweeina/3bc-curly-hair/'"
   ],
   "metadata": {}
  },
  {
   "cell_type": "code",
   "execution_count": 65,
   "source": [
    "images = ph.runme('https://www.pinterest.co.uk/chrystaweeina/3bc-curly-hair/')"
   ],
   "outputs": [],
   "metadata": {}
  },
  {
   "cell_type": "code",
   "execution_count": 66,
   "source": [
    "imgs = []\n",
    "for i in images:\n",
    "    imgs.append(i.decode())"
   ],
   "outputs": [],
   "metadata": {}
  },
  {
   "cell_type": "code",
   "execution_count": 67,
   "source": [
    "s.download(imgs, \"/Users/olayile/pinterest-image-scraper-1/3b_hair_images\")"
   ],
   "outputs": [],
   "metadata": {}
  },
  {
   "cell_type": "markdown",
   "source": [
    "3A"
   ],
   "metadata": {}
  },
  {
   "cell_type": "markdown",
   "source": [
    "[x] 'https://za.pinterest.com/jodimassa/curly-girls/'\n",
    "\n",
    "[x] 'https://za.pinterest.com/beckylowe101/hair-curly-styles-cuts/'\n",
    "\n",
    "[x] 'https://za.pinterest.com/pengtines96867/3a-curly-hair/'"
   ],
   "metadata": {}
  },
  {
   "cell_type": "code",
   "execution_count": 76,
   "source": [
    "images = ph.runme('https://za.pinterest.com/pengtines96867/3a-curly-hair/')"
   ],
   "outputs": [],
   "metadata": {}
  },
  {
   "cell_type": "code",
   "execution_count": 77,
   "source": [
    "imgs = []\n",
    "for i in images:\n",
    "    imgs.append(i.decode())"
   ],
   "outputs": [],
   "metadata": {}
  },
  {
   "cell_type": "code",
   "execution_count": 78,
   "source": [
    "s.download(imgs, \"/Users/olayile/pinterest-image-scraper-1/3a_hair_images\")"
   ],
   "outputs": [],
   "metadata": {}
  },
  {
   "cell_type": "markdown",
   "source": [
    "# 2C"
   ],
   "metadata": {}
  },
  {
   "cell_type": "markdown",
   "source": [
    "'https://za.pinterest.com/victoriagabrielal_/curlywavy-hair-2b2c/'\n",
    "\n",
    "'https://za.pinterest.com/amy_yvcvs/hair/'"
   ],
   "metadata": {}
  },
  {
   "cell_type": "code",
   "execution_count": 87,
   "source": [
    "images = ph.runme('https://za.pinterest.com/amy_yvcvs/hair/')"
   ],
   "outputs": [],
   "metadata": {}
  },
  {
   "cell_type": "code",
   "execution_count": 88,
   "source": [
    "imgs = []\n",
    "for i in images:\n",
    "    imgs.append(i.decode())"
   ],
   "outputs": [],
   "metadata": {}
  },
  {
   "cell_type": "code",
   "execution_count": 89,
   "source": [
    "s.download(imgs, \"/Users/olayile/pinterest-image-scraper-1/2c_hair_images\")"
   ],
   "outputs": [],
   "metadata": {}
  },
  {
   "cell_type": "markdown",
   "source": [
    "# 2B"
   ],
   "metadata": {}
  },
  {
   "cell_type": "markdown",
   "source": [
    "'https://za.pinterest.com/chandra8908/natural-hair-goals/'"
   ],
   "metadata": {}
  },
  {
   "cell_type": "code",
   "execution_count": 92,
   "source": [
    "images = ph.runme('https://za.pinterest.com/chandra8908/natural-hair-goals/')"
   ],
   "outputs": [],
   "metadata": {}
  },
  {
   "cell_type": "code",
   "execution_count": 93,
   "source": [
    "imgs = []\n",
    "for i in images:\n",
    "    imgs.append(i.decode())"
   ],
   "outputs": [],
   "metadata": {}
  },
  {
   "cell_type": "code",
   "execution_count": 94,
   "source": [
    "s.download(imgs, \"/Users/olayile/pinterest-image-scraper-1/2b_hair_images\")"
   ],
   "outputs": [],
   "metadata": {}
  },
  {
   "cell_type": "markdown",
   "source": [
    "# 1C"
   ],
   "metadata": {}
  },
  {
   "cell_type": "markdown",
   "source": [
    "'https://za.pinterest.com/DailyDoseHairCare/daily-dose-1c-hair-type/'\n",
    "\n",
    "'https://za.pinterest.com/Fatima_202/1c-hair/'"
   ],
   "metadata": {}
  },
  {
   "cell_type": "code",
   "execution_count": 102,
   "source": [
    "images = ph.runme('https://za.pinterest.com/Fatima_202/1c-hair/')"
   ],
   "outputs": [],
   "metadata": {}
  },
  {
   "cell_type": "code",
   "execution_count": 103,
   "source": [
    "imgs = []\n",
    "for i in images:\n",
    "    imgs.append(i.decode())"
   ],
   "outputs": [],
   "metadata": {}
  },
  {
   "cell_type": "code",
   "execution_count": 104,
   "source": [
    "s.download(imgs, \"/Users/olayile/pinterest-image-scraper-1/1c_hair_images\")"
   ],
   "outputs": [],
   "metadata": {}
  },
  {
   "cell_type": "markdown",
   "source": [
    "#1 A"
   ],
   "metadata": {}
  },
  {
   "cell_type": "markdown",
   "source": [
    "'https://za.pinterest.com/DailyDoseHairCare/daily-dose-1a-hair-type/'"
   ],
   "metadata": {}
  },
  {
   "cell_type": "code",
   "execution_count": 108,
   "source": [
    "images = ph.runme('https://za.pinterest.com/DailyDoseHairCare/daily-dose-1a-hair-type/')"
   ],
   "outputs": [],
   "metadata": {}
  },
  {
   "cell_type": "code",
   "execution_count": 109,
   "source": [
    "imgs = []\n",
    "for i in images:\n",
    "    imgs.append(i.decode())"
   ],
   "outputs": [],
   "metadata": {}
  },
  {
   "cell_type": "code",
   "execution_count": 110,
   "source": [
    "s.download(imgs, \"/Users/olayile/pinterest-image-scraper-1/1a_hair_images\")"
   ],
   "outputs": [],
   "metadata": {}
  },
  {
   "cell_type": "markdown",
   "source": [
    "# FIX THE DIRECTORIES\n"
   ],
   "metadata": {}
  },
  {
   "cell_type": "code",
   "execution_count": 115,
   "source": [
    "import os\n",
    "import numpy as np\n",
    "import shutil\n",
    "import random\n",
    "root_dir = '/Users/olayile/pinterest-image-scraper-1/hair_images/'\n",
    "classes_dir = ['1a_hair_images', '1c_hair_images', '2b_hair_images', '2c_hair_images', '3a_hair_images', '3b_hair_images', '3c_hair_images', '4a_hair_images', '4c_hair_images']\n",
    "\n",
    "\n",
    "test_ratio = 0.20\n",
    "\n",
    "for cls in classes_dir:\n",
    "    os.makedirs(root_dir +'train/' + cls)\n",
    "    os.makedirs(root_dir +'test/' + cls)\n",
    "\n",
    "src = root_dir + cls\n",
    "\n",
    "allFileNames = os.listdir(src)\n",
    "np.random.shuffle(allFileNames)\n",
    "train_FileNames, test_FileNames = np.split(np.array(allFileNames),\n",
    "                                                          [int(len(allFileNames)* (1 - test_ratio))])\n",
    "\n",
    "\n",
    "train_FileNames = [src+'/'+ name for name in train_FileNames.tolist()]\n",
    "test_FileNames = [src+'/' + name for name in test_FileNames.tolist()]\n",
    "\n",
    "print(\"*****************************\")\n",
    "print('Total images: ', len(allFileNames))\n",
    "print('Training: ', len(train_FileNames))\n",
    "print('Testing: ', len(test_FileNames))\n",
    "print(\"*****************************\")\n",
    "\n",
    "\n",
    "lab = ['1a_hair_images', '1c_hair_images', '2b_hair_images', '2c_hair_images', '3a_hair_images', '3b_hair_images', '3c_hair_images', '4a_hair_images', '4c_hair_images']\n",
    "\n",
    "for name in train_FileNames:\n",
    "    for i in lab:\n",
    "        shutil.copy(name, root_dir +'train/' + i)\n",
    "\n",
    "for name in test_FileNames:\n",
    "    for i in lab:\n",
    "        shutil.copy(name, root_dir +'test/' + i)\n",
    "print(\"Copying Done!\")"
   ],
   "outputs": [
    {
     "output_type": "stream",
     "name": "stdout",
     "text": [
      "*****************************\n",
      "Total images:  223\n",
      "Training:  178\n",
      "Testing:  45\n",
      "*****************************\n",
      "Copying Done!\n"
     ]
    }
   ],
   "metadata": {}
  },
  {
   "cell_type": "code",
   "execution_count": null,
   "source": [],
   "outputs": [],
   "metadata": {}
  }
 ],
 "metadata": {
  "orig_nbformat": 4,
  "language_info": {
   "name": "python",
   "version": "3.9.6",
   "mimetype": "text/x-python",
   "codemirror_mode": {
    "name": "ipython",
    "version": 3
   },
   "pygments_lexer": "ipython3",
   "nbconvert_exporter": "python",
   "file_extension": ".py"
  },
  "kernelspec": {
   "name": "python3",
   "display_name": "Python 3.9.6 64-bit"
  },
  "interpreter": {
   "hash": "aee8b7b246df8f9039afb4144a1f6fd8d2ca17a180786b69acc140d282b71a49"
  }
 },
 "nbformat": 4,
 "nbformat_minor": 2
}